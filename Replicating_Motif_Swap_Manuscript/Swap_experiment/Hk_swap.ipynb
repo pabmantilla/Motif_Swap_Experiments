{
 "cells": [
  {
   "cell_type": "code",
   "execution_count": 71,
   "id": "d1d9d905",
   "metadata": {},
   "outputs": [],
   "source": [
    "import h5py\n",
    "import torch\n",
    "import pandas as pd\n",
    "import numpy as np\n",
    "from tangermeme.utils import characters\n",
    "from tangermeme.seqlet import tfmodisco_seqlets\n",
    "from tangermeme.plot import plot_logo\n",
    "from tangermeme.utils import one_hot_encode\n",
    "from tangermeme.deep_lift_shap import deep_lift_shap, _nonlinear\n",
    "from tangermeme.ersatz import dinucleotide_shuffle, multisubstitute\n",
    "from tangermeme.predict import predict\n",
    "import torch, torch.nn as nn, torch.fx as fx, copy\n",
    "import copy\n",
    "import matplotlib.pyplot as plt\n",
    "import statsmodels\n",
    "import modiscolite"
   ]
  },
  {
   "cell_type": "code",
   "execution_count": 73,
   "id": "e5aeb55f",
   "metadata": {},
   "outputs": [],
   "source": [
    "hits_byseq = pd.read_csv(\"../foreground_analysis/TF-Modisco-lite_results/Hk_manual_hits/high_hits.csv\")\n",
    "\n",
    "valid_seqs = hits_byseq[\"sequence_name\"].unique()\n",
    "\n",
    "hits_byseq = dict(tuple(hits_byseq.groupby(\"sequence_name\")))\n",
    "\n"
   ]
  },
  {
   "cell_type": "code",
   "execution_count": 74,
   "id": "1976a7cb",
   "metadata": {},
   "outputs": [],
   "source": [
    "high_df = pd.read_csv(\"../experimental_library_generation/Binned_libraries/Hk_full_data/high_df.csv\")\n",
    "import re\n",
    "import ast\n",
    "import torch\n",
    "import numpy as np\n",
    "\n",
    "# Remove trailing dtype/device hints like \", dtype=torch.int8)\" or \", device='cuda:0')\"\n",
    "_DTYPE_DEVICE_RE = re.compile(r\",(?:\\s*dtype\\s*=\\s*[\\w\\.]+|\\s*device\\s*=\\s*[^)\\]]+)\\s*\\)?\\s*$\")\n",
    "\n",
    "def _extract_bracket_payload(s: str) -> str:\n",
    "    s = s.strip()\n",
    "    # If starts with tensor( ... ), drop the leading \"tensor(\" and trailing \")\"\n",
    "    if s.startswith(\"tensor(\") and s.endswith(\")\"):\n",
    "        s = s[len(\"tensor(\"):-1].strip()\n",
    "    # Keep only the bracketed list from the first '[' to its matching ']'\n",
    "    start = s.find('[')\n",
    "    if start < 0:\n",
    "        raise ValueError(\"No bracketed payload in string\")\n",
    "    # Remove dtype/device suffixes after the closing bracket region\n",
    "    s = _DTYPE_DEVICE_RE.sub(\"\", s)\n",
    "    # Now trim to balanced brackets\n",
    "    depth = 0\n",
    "    end = None\n",
    "    for i, ch in enumerate(s[start:], start=start):\n",
    "        if ch == '[':\n",
    "            depth += 1\n",
    "        elif ch == ']':\n",
    "            depth -= 1\n",
    "            if depth == 0:\n",
    "                end = i + 1\n",
    "                break\n",
    "    if end is None:\n",
    "        raise ValueError(\"Unbalanced brackets in payload\")\n",
    "    return s[start:end]\n",
    "\n",
    "def str_tensor_to_torch(s: str, dtype=None, device=None):\n",
    "    if s is None:\n",
    "        return None\n",
    "    payload = _extract_bracket_payload(str(s))\n",
    "    data = ast.literal_eval(payload)  # only literal content\n",
    "    use_dtype = dtype if dtype is not None else torch.float32\n",
    "    return torch.tensor(data, dtype=use_dtype, device=device)\n",
    "\n",
    "COL_DTYPES = {\n",
    "    \"Cluster_foreground\": torch.float32,\n",
    "    \"Scaled_foreground\": torch.float32,\n",
    "    \"Avg_background\": torch.float32,\n",
    "    \"ohe_seq\": torch.int8,\n",
    "}\n",
    "\n",
    "def to_torch(v, dtype, device=None):\n",
    "    if v is None:\n",
    "        return None\n",
    "    if isinstance(v, str):\n",
    "        return str_tensor_to_torch(v, dtype=dtype, device=device)\n",
    "    if isinstance(v, torch.Tensor):\n",
    "        return v.to(dtype=dtype, device=device) if device else v.to(dtype=dtype)\n",
    "    return torch.tensor(v, dtype=dtype, device=device)\n",
    "\n",
    "def restore_tensor_columns(df, cols, dtypes, device=None):\n",
    "    for col in cols:\n",
    "        if col in df.columns:\n",
    "            dt = dtypes.get(col, torch.float32)\n",
    "            df[col] = [to_torch(v, dtype=dt, device=device) for v in df[col].tolist()]\n",
    "    return df\n",
    "\n",
    "\n",
    "high_df = restore_tensor_columns(\n",
    "    high_df,\n",
    "    cols=[\"Cluster_foreground\", \"Scaled_foreground\", \"Avg_background\", \"ohe_seq\"],\n",
    "    dtypes=COL_DTYPES,\n",
    ")\n",
    "\n",
    "high_ohe_list = high_df[\"ohe_seq\"].values\n",
    "high_att_list = high_df[\"Scaled_foreground\"].values\n",
    "# If needed for low_df/mid_df as well:\n",
    "# low_df = restore_tensor_columns(low_df)\n",
    "# mid_df = restore_tensor_columns(mid_df)\n"
   ]
  },
  {
   "cell_type": "code",
   "execution_count": 75,
   "id": "3d83bd26",
   "metadata": {},
   "outputs": [],
   "source": [
    "def get_spacings_from_lengths(regions):\n",
    "    starts = regions['start'].to_numpy()\n",
    "    ends = regions['end'].to_numpy()\n",
    "    lengths = (ends - starts)\n",
    "    spacings = (starts[1:] - ends[:-1]).astype(int).tolist() if len(starts) > 1 else []\n",
    "    return spacings"
   ]
  },
  {
   "cell_type": "code",
   "execution_count": 76,
   "id": "1871b49b",
   "metadata": {},
   "outputs": [
    {
     "name": "stdout",
     "output_type": "stream",
     "text": [
      "Making all targets\n",
      "25\n",
      "Finshed making all targets\n"
     ]
    }
   ],
   "source": [
    "# make targets \n",
    "first = valid_seqs[0:25]\n",
    "targets_byseq = {}\n",
    "print(\"Making all targets\")\n",
    "for v in first:\n",
    "    ohe = high_ohe_list[v].unsqueeze(0)\n",
    "    shuffles = dinucleotide_shuffle(ohe, n=10).squeeze()\n",
    "    regions = hits_byseq[v][['start','end']].sort_values(by='start',ascending=True).reset_index(drop=True)\n",
    "\n",
    "    starts = regions['start'].to_numpy()\n",
    "    ends = regions['end'].to_numpy()\n",
    "\n",
    "\n",
    "    spacings = get_spacings_from_lengths(regions)\n",
    "\n",
    "    targets = []\n",
    "    for i in range(shuffles.shape[0]):\n",
    "        s = shuffles[i]     \n",
    "        motifs = [s[:, starts[j]:ends[j]].unsqueeze(0) for j in range(len(starts))]  # each (4,len)\n",
    "        subed_seq = multisubstitute(ohe, motifs, spacing=spacings, start=int(starts[0]))\n",
    "        targets.append(subed_seq)\n",
    "    targets_byseq[int(v)] = targets    \n",
    "print(len(targets_byseq))\n",
    "print(\"Finshed making all targets\")"
   ]
  },
  {
   "cell_type": "code",
   "execution_count": 77,
   "id": "891dafe3",
   "metadata": {},
   "outputs": [
    {
     "data": {
      "text/plain": [
       "torch.Size([1, 4, 249])"
      ]
     },
     "execution_count": 77,
     "metadata": {},
     "output_type": "execute_result"
    }
   ],
   "source": [
    "targets_byseq[1][0].shape"
   ]
  },
  {
   "cell_type": "code",
   "execution_count": 78,
   "id": "fcd9914e",
   "metadata": {},
   "outputs": [
    {
     "name": "stdout",
     "output_type": "stream",
     "text": [
      "Making all sources\n",
      "25\n",
      "Finished making all sources\n"
     ]
    }
   ],
   "source": [
    "# make sources\n",
    "first = valid_seqs[0:25]\n",
    "\n",
    "sources_byseq = {}\n",
    "print(\"Making all sources\")\n",
    "for v in first:\n",
    "    ohe = high_ohe_list[v].T\n",
    "    regions = hits_byseq[v][['start','end']].sort_values(by='start',ascending=True).reset_index(drop=True)\n",
    "\n",
    "    starts = regions['start'].to_numpy()\n",
    "    ends = regions['end'].to_numpy()\n",
    "    seq_source = []\n",
    "    #print(len(starts))\n",
    "    motifs = [ohe[starts[j]:ends[j]].T.unsqueeze(0) for j in range(len(starts))]\n",
    "    \n",
    "    sources_byseq[int(v)] = motifs\n",
    "\n",
    "print(len(sources_byseq))\n",
    "print(\"Finished making all sources\")\n",
    "\n",
    "\n"
   ]
  },
  {
   "cell_type": "code",
   "execution_count": 79,
   "id": "7a36830c",
   "metadata": {},
   "outputs": [
    {
     "data": {
      "text/plain": [
       "torch.Size([1, 4, 20])"
      ]
     },
     "execution_count": 79,
     "metadata": {},
     "output_type": "execute_result"
    }
   ],
   "source": [
    "sources_byseq[1][0].shape"
   ]
  },
  {
   "cell_type": "code",
   "execution_count": 80,
   "id": "e8088abe",
   "metadata": {},
   "outputs": [
    {
     "data": {
      "text/plain": [
       "torch.Size([4, 249])"
      ]
     },
     "execution_count": 80,
     "metadata": {},
     "output_type": "execute_result"
    }
   ],
   "source": [
    "high_ohe_list[0].shape"
   ]
  },
  {
   "cell_type": "code",
   "execution_count": 141,
   "id": "48fef5aa",
   "metadata": {},
   "outputs": [
    {
     "name": "stdout",
     "output_type": "stream",
     "text": [
      "Making swaps\n",
      "Done.\n"
     ]
    }
   ],
   "source": [
    "## all vs all sources vs targets\n",
    "# all vs all sources vs targets\n",
    "first = valid_seqs[0:25]  # [web:110]\n",
    "swaps = {}  # [web:110]\n",
    "print(\"Making swaps\")  # [web:110]\n",
    "\n",
    "for v in first:\n",
    "    motifs = sources_byseq[v]  # [web:1]\n",
    "    regions = hits_byseq[v][['start','end']].sort_values(by='start', ascending=True).reset_index(drop=True)  # [web:1]\n",
    "    spacings = get_spacings_from_lengths(regions)  # [web:1]\n",
    "    starts = regions['start'].to_numpy()  # [web:110]\n",
    "\n",
    "    swaps[v] = {}  # [web:110]\n",
    "    for vt in first:\n",
    "        if vt == v:\n",
    "            continue  # [web:110]\n",
    "        targets = targets_byseq[vt]  # [web:110]\n",
    "        new_seqs = []  # [web:110]\n",
    "        for j in range(len(targets)):\n",
    "            bg = targets[j]  # [web:110]\n",
    "            new_seq = multisubstitute(bg, motifs, spacing=spacings, start=int(starts[0]))  # [web:1]\n",
    "            new_seqs.append(new_seq)  # [web:110]\n",
    "        swaps[v][vt] = new_seqs  # [web:110]\n",
    "\n",
    "print(\"Done.\")  # [web:110]\n",
    "\n"
   ]
  },
  {
   "cell_type": "code",
   "execution_count": 142,
   "id": "ecdd49d1",
   "metadata": {},
   "outputs": [
    {
     "data": {
      "text/plain": [
       "10"
      ]
     },
     "execution_count": 142,
     "metadata": {},
     "output_type": "execute_result"
    }
   ],
   "source": [
    "len(swaps[0][3])"
   ]
  },
  {
   "cell_type": "code",
   "execution_count": 160,
   "id": "2f7abad1",
   "metadata": {},
   "outputs": [
    {
     "name": "stdout",
     "output_type": "stream",
     "text": [
      "Making all bgs\n",
      "25\n",
      "Finshed making all dishuffled bgs\n"
     ]
    }
   ],
   "source": [
    "## Make dishuffled backgrounds\n",
    "\n",
    "first = valid_seqs[0:25]\n",
    "shuffledbgs_byseq = {}\n",
    "print(\"Making all bgs\")\n",
    "for v in first:\n",
    "    ohe = high_ohe_list[v].unsqueeze(0)\n",
    "    regions = hits_byseq[v][['start','end']].sort_values('start').reset_index(drop=True)\n",
    "    spacings = get_spacings_from_lengths(regions)  # uses start[i+1] - end[i]\n",
    "    starts = regions['start'].to_numpy()\n",
    "    ends = regions['end'].to_numpy()\n",
    "\n",
    "    bg = dinucleotide_shuffle(ohe, n=1).squeeze(0)\n",
    "    ohe = ohe.squeeze(0)\n",
    "    motifs = [ohe[:, a:b].unsqueeze(0) for a, b in zip(starts, ends)]\n",
    "    \n",
    "    dishuf = multisubstitute(bg, motifs, spacing=spacings, start=int(starts[0]))\n",
    "    shuffledbgs_byseq[int(v)] = dishuf\n",
    "\n",
    "print(len(shuffledbgs_byseq))\n",
    "print(\"Finshed making all dishuffled bgs\")\n"
   ]
  },
  {
   "cell_type": "code",
   "execution_count": 82,
   "id": "4c366790",
   "metadata": {},
   "outputs": [
    {
     "data": {
      "text/plain": [
       "torch.Size([1, 4, 249])"
      ]
     },
     "execution_count": 82,
     "metadata": {},
     "output_type": "execute_result"
    }
   ],
   "source": [
    "shuffledbgs_byseq[0].shape"
   ]
  },
  {
   "cell_type": "code",
   "execution_count": 83,
   "id": "e3896750",
   "metadata": {},
   "outputs": [],
   "source": [
    "import os, sys\n",
    "import pytorch_lightning\n",
    "model_dir  = \"/grid/wsbs/home_norepl/pmantill/Trained_Model_Zoo/EvoAug_Distilled_Student_Model\"\n",
    "model_path = os.path.join(model_dir, \"EvoAug_student_model.pt\")\n",
    "\n",
    "# Make sure distill_EvoAug2.py is in model_dir\n",
    "sys.path.insert(0, model_dir)\n",
    "import distill_EvoAug2 as distill_mod  # avoid shadowing 'model'\n",
    "\n",
    "device = torch.device(\"cuda\" if torch.cuda.is_available() else \"cpu\")\n",
    "pytorch_model = torch.load(model_path, map_location=device).to(device).eval()"
   ]
  },
  {
   "cell_type": "code",
   "execution_count": 84,
   "id": "8e17f698",
   "metadata": {},
   "outputs": [],
   "source": [
    "# Wrap to expose only the mean head (B,2)\n",
    "class MeanOnlyModel(nn.Module):\n",
    "    def __init__(self, student_model): \n",
    "        super().__init__()\n",
    "        self.student = student_model\n",
    "    def forward(self, X):\n",
    "        out = self.student(X)   # dict\n",
    "        return out[\"mean\"]      # (B,2)\n",
    "\n",
    "def uniquify_relu_calls(model: nn.Module) -> nn.Module:\n",
    "    gm = fx.symbolic_trace(model)\n",
    "    modules = dict(gm.named_modules())\n",
    "    counter = 0\n",
    "    for node in gm.graph.nodes:\n",
    "        if node.op == 'call_module' and isinstance(modules[node.target], nn.ReLU):\n",
    "            new_name = f\"_relu_callsite_{counter}\"\n",
    "            counter += 1\n",
    "            setattr(gm, new_name, nn.ReLU(inplace=False))\n",
    "            node.target = new_name\n",
    "    gm.recompile()\n",
    "    return gm.eval()\n",
    "\n",
    "device = torch.device(\"cuda\" if torch.cuda.is_available() else \"cpu\")  # Will use GPU 3 due to CUDA_VISIBLE_DEVICES\n",
    "pytorch_model.to(device).eval()\n",
    "\n",
    "attr_model = MeanOnlyModel(pytorch_model).eval()\n",
    "attr_model = copy.deepcopy(attr_model).eval()\n",
    "attr_model = uniquify_relu_calls(attr_model).to(device).eval()\n",
    "\n",
    "torch.backends.cuda.matmul.allow_tf32 = True\n",
    "torch.backends.cudnn.allow_tf32 = True\n",
    "\n",
    "\n",
    "def deeplift_attr_with_progress(x_np_BLA, target_idx, batch_size, n_shuffles):\n",
    "    B, L, A = x_np_BLA.shape\n",
    "    out = np.empty((B, L, A), dtype=np.float16)\n",
    "    for s in range(0, B, batch_size):\n",
    "        e = min(s + batch_size, B)\n",
    "        x_batch = x_np_BLA[s:e]  # (b, L, A)\n",
    "        x_t = torch.from_numpy(np.ascontiguousarray(x_batch)).to(device, dtype=torch.float32)\n",
    "        x_t = x_t.permute(0, 2, 1).contiguous()          # -> (b, A, L)\n",
    "        x_t.requires_grad_(True)                         # CRITICAL\n",
    "        #print(target_idx)\n",
    "        # IMPORTANT: do NOT wrap this in no_grad/inference_mode\n",
    "        \n",
    "        attr_BAL = deep_lift_shap(\n",
    "            attr_model,\n",
    "            x_t,\n",
    "            target=target_idx,                # 0=Dev, 1=HK\n",
    "            device='cuda',\n",
    "            batch_size=x_t.shape[0],\n",
    "            n_shuffles=n_shuffles,\n",
    "            print_convergence_deltas=False,\n",
    "            additional_nonlinear_ops={nn.ReLU: _nonlinear},\n",
    "            verbose=True\n",
    "        )\n",
    "\n",
    "        attr_BLA = attr_BAL.permute(0, 2, 1).contiguous().cpu().detach().numpy()  # -> (b, L, A)\n",
    "        out[s:e] = attr_BLA.astype(np.float16)\n",
    "\n",
    "    return out"
   ]
  },
  {
   "cell_type": "code",
   "execution_count": 151,
   "id": "71dc8fa4",
   "metadata": {},
   "outputs": [
    {
     "name": "stdout",
     "output_type": "stream",
     "text": [
      "torch.Size([3000, 4, 249])\n"
     ]
    }
   ],
   "source": [
    "tensor_list = [torch.tensor(arr) for arr in high_ohe_list]\n",
    "\n",
    "# Get WT predictions\n",
    "high_ohe_stack = torch.stack(tensor_list)\n",
    "print(high_ohe_stack.shape)\n",
    "y = predict(pytorch_model, high_ohe_stack, batch_size=256, func=lambda x: x['mean'])\n",
    "y = y[:, 1]\n",
    "\n",
    "scores_df = pd.DataFrame({\"Test_idx\": high_df['test_idx'], \"WT_score\":y})\n"
   ]
  },
  {
   "cell_type": "code",
   "execution_count": 152,
   "id": "1436a1f2",
   "metadata": {},
   "outputs": [],
   "source": [
    "int_indices = list(map(int, valid_seqs[0:25]))  # [1, 5, 10]\n",
    "\n",
    "mask = torch.zeros(high_ohe_stack.size(0), dtype=torch.bool)\n",
    "mask[int_indices] = True\n",
    "scores_df = scores_df.loc[int_indices]\n",
    "\n"
   ]
  },
  {
   "cell_type": "code",
   "execution_count": 153,
   "id": "d2396700",
   "metadata": {},
   "outputs": [
    {
     "name": "stdout",
     "output_type": "stream",
     "text": [
      "<class 'torch.Tensor'>\n"
     ]
    }
   ],
   "source": [
    "print(type(targets_byseq[0][0]))"
   ]
  },
  {
   "cell_type": "code",
   "execution_count": 161,
   "id": "3dafcbac",
   "metadata": {},
   "outputs": [
    {
     "name": "stdout",
     "output_type": "stream",
     "text": [
      "25\n",
      "tensor(4.3753)\n"
     ]
    }
   ],
   "source": [
    "# Flatten all tensors and record their corresponding key\n",
    "all_tensors = []\n",
    "key_order = []\n",
    "for key, tensor in shuffledbgs_byseq.items():\n",
    "    all_tensors.append(tensor)      # Only 1 tensor per key\n",
    "    key_order.append(key)           # One key per tensor\n",
    "\n",
    "print(len(all_tensors))  # Should be 25\n",
    "\n",
    "# Stack all tensors into a single batch tensor\n",
    "input_tensor = torch.stack(all_tensors).squeeze(1)  # shape: (25, 4, 249)\n",
    "\n",
    "# Predict\n",
    "y_dishuff = predict(pytorch_model, input_tensor, batch_size=256, func=lambda x: x['mean'])\n",
    "y_dishuff = y_dishuff[:, 1]  # Use second output column\n",
    "print(y_dishuff[0])\n",
    "\n",
    "# Convert predictions to a list\n",
    "dishuffle_preds = y_dishuff.tolist()  # List of 25 floats\n",
    "\n",
    "# Assign directly to scores_df, assuming order matches\n",
    "scores_df[\"Dishufflebg_pred\"] = dishuffle_preds\n"
   ]
  },
  {
   "cell_type": "code",
   "execution_count": 155,
   "id": "c73efa72",
   "metadata": {},
   "outputs": [],
   "source": [
    "pair_scores = {}  # pair_scores[v][vt] = list of 10 floats\n",
    "\n",
    "for v in valid_seqs[0:25]:\n",
    "    pair_scores[v] = {}\n",
    "    for vt, ten in swaps[v].items():             # ten is list of 10 tensors (1,4,L)\n",
    "        input_tensor = torch.cat(ten, dim=0)     # (10,4,L)\n",
    "        y = predict(pytorch_model, input_tensor, batch_size=256, func=lambda x: x['mean'])[:, 1]\n",
    "        pair_scores[v][vt] = y.tolist()\n"
   ]
  },
  {
   "cell_type": "code",
   "execution_count": 156,
   "id": "aa22ea71",
   "metadata": {},
   "outputs": [
    {
     "data": {
      "text/plain": [
       "4.809267044067383"
      ]
     },
     "execution_count": 156,
     "metadata": {},
     "output_type": "execute_result"
    }
   ],
   "source": [
    "pair_scores[0][1][0]"
   ]
  },
  {
   "cell_type": "code",
   "execution_count": 162,
   "id": "58224a49",
   "metadata": {},
   "outputs": [
    {
     "data": {
      "text/html": [
       "<div>\n",
       "<style scoped>\n",
       "    .dataframe tbody tr th:only-of-type {\n",
       "        vertical-align: middle;\n",
       "    }\n",
       "\n",
       "    .dataframe tbody tr th {\n",
       "        vertical-align: top;\n",
       "    }\n",
       "\n",
       "    .dataframe thead th {\n",
       "        text-align: right;\n",
       "    }\n",
       "</style>\n",
       "<table border=\"1\" class=\"dataframe\">\n",
       "  <thead>\n",
       "    <tr style=\"text-align: right;\">\n",
       "      <th></th>\n",
       "      <th>Test_idx</th>\n",
       "      <th>WT_score</th>\n",
       "      <th>Dishufflebg_pred</th>\n",
       "    </tr>\n",
       "  </thead>\n",
       "  <tbody>\n",
       "    <tr>\n",
       "      <th>0</th>\n",
       "      <td>13521</td>\n",
       "      <td>5.783203</td>\n",
       "      <td>4.375309</td>\n",
       "    </tr>\n",
       "    <tr>\n",
       "      <th>1</th>\n",
       "      <td>19552</td>\n",
       "      <td>4.697052</td>\n",
       "      <td>3.856947</td>\n",
       "    </tr>\n",
       "    <tr>\n",
       "      <th>2</th>\n",
       "      <td>3844</td>\n",
       "      <td>5.453243</td>\n",
       "      <td>5.781189</td>\n",
       "    </tr>\n",
       "    <tr>\n",
       "      <th>3</th>\n",
       "      <td>51146</td>\n",
       "      <td>2.793368</td>\n",
       "      <td>1.496114</td>\n",
       "    </tr>\n",
       "    <tr>\n",
       "      <th>4</th>\n",
       "      <td>118123</td>\n",
       "      <td>2.704016</td>\n",
       "      <td>2.765565</td>\n",
       "    </tr>\n",
       "    <tr>\n",
       "      <th>5</th>\n",
       "      <td>38007</td>\n",
       "      <td>2.915797</td>\n",
       "      <td>1.798479</td>\n",
       "    </tr>\n",
       "    <tr>\n",
       "      <th>6</th>\n",
       "      <td>271183</td>\n",
       "      <td>5.933939</td>\n",
       "      <td>5.484293</td>\n",
       "    </tr>\n",
       "    <tr>\n",
       "      <th>7</th>\n",
       "      <td>72232</td>\n",
       "      <td>4.552957</td>\n",
       "      <td>3.550009</td>\n",
       "    </tr>\n",
       "    <tr>\n",
       "      <th>8</th>\n",
       "      <td>66972</td>\n",
       "      <td>4.609819</td>\n",
       "      <td>-0.301811</td>\n",
       "    </tr>\n",
       "    <tr>\n",
       "      <th>9</th>\n",
       "      <td>206986</td>\n",
       "      <td>6.119732</td>\n",
       "      <td>3.775924</td>\n",
       "    </tr>\n",
       "    <tr>\n",
       "      <th>10</th>\n",
       "      <td>2905</td>\n",
       "      <td>5.482698</td>\n",
       "      <td>4.929993</td>\n",
       "    </tr>\n",
       "    <tr>\n",
       "      <th>11</th>\n",
       "      <td>218918</td>\n",
       "      <td>5.825777</td>\n",
       "      <td>5.218948</td>\n",
       "    </tr>\n",
       "    <tr>\n",
       "      <th>12</th>\n",
       "      <td>94207</td>\n",
       "      <td>2.949216</td>\n",
       "      <td>3.667708</td>\n",
       "    </tr>\n",
       "    <tr>\n",
       "      <th>13</th>\n",
       "      <td>207374</td>\n",
       "      <td>4.230911</td>\n",
       "      <td>3.664094</td>\n",
       "    </tr>\n",
       "    <tr>\n",
       "      <th>14</th>\n",
       "      <td>18085</td>\n",
       "      <td>4.117725</td>\n",
       "      <td>2.658206</td>\n",
       "    </tr>\n",
       "    <tr>\n",
       "      <th>15</th>\n",
       "      <td>217416</td>\n",
       "      <td>2.396171</td>\n",
       "      <td>1.206745</td>\n",
       "    </tr>\n",
       "    <tr>\n",
       "      <th>16</th>\n",
       "      <td>204547</td>\n",
       "      <td>4.722403</td>\n",
       "      <td>2.912257</td>\n",
       "    </tr>\n",
       "    <tr>\n",
       "      <th>17</th>\n",
       "      <td>223697</td>\n",
       "      <td>4.532877</td>\n",
       "      <td>5.559941</td>\n",
       "    </tr>\n",
       "    <tr>\n",
       "      <th>18</th>\n",
       "      <td>19026</td>\n",
       "      <td>5.164061</td>\n",
       "      <td>3.601851</td>\n",
       "    </tr>\n",
       "    <tr>\n",
       "      <th>19</th>\n",
       "      <td>289356</td>\n",
       "      <td>4.657923</td>\n",
       "      <td>4.475995</td>\n",
       "    </tr>\n",
       "    <tr>\n",
       "      <th>20</th>\n",
       "      <td>216387</td>\n",
       "      <td>6.132372</td>\n",
       "      <td>5.600479</td>\n",
       "    </tr>\n",
       "    <tr>\n",
       "      <th>21</th>\n",
       "      <td>17316</td>\n",
       "      <td>2.822349</td>\n",
       "      <td>2.007397</td>\n",
       "    </tr>\n",
       "    <tr>\n",
       "      <th>22</th>\n",
       "      <td>259170</td>\n",
       "      <td>3.922620</td>\n",
       "      <td>2.999771</td>\n",
       "    </tr>\n",
       "    <tr>\n",
       "      <th>23</th>\n",
       "      <td>211686</td>\n",
       "      <td>4.561628</td>\n",
       "      <td>1.080819</td>\n",
       "    </tr>\n",
       "    <tr>\n",
       "      <th>24</th>\n",
       "      <td>62390</td>\n",
       "      <td>4.597238</td>\n",
       "      <td>4.206141</td>\n",
       "    </tr>\n",
       "  </tbody>\n",
       "</table>\n",
       "</div>"
      ],
      "text/plain": [
       "    Test_idx  WT_score  Dishufflebg_pred\n",
       "0      13521  5.783203          4.375309\n",
       "1      19552  4.697052          3.856947\n",
       "2       3844  5.453243          5.781189\n",
       "3      51146  2.793368          1.496114\n",
       "4     118123  2.704016          2.765565\n",
       "5      38007  2.915797          1.798479\n",
       "6     271183  5.933939          5.484293\n",
       "7      72232  4.552957          3.550009\n",
       "8      66972  4.609819         -0.301811\n",
       "9     206986  6.119732          3.775924\n",
       "10      2905  5.482698          4.929993\n",
       "11    218918  5.825777          5.218948\n",
       "12     94207  2.949216          3.667708\n",
       "13    207374  4.230911          3.664094\n",
       "14     18085  4.117725          2.658206\n",
       "15    217416  2.396171          1.206745\n",
       "16    204547  4.722403          2.912257\n",
       "17    223697  4.532877          5.559941\n",
       "18     19026  5.164061          3.601851\n",
       "19    289356  4.657923          4.475995\n",
       "20    216387  6.132372          5.600479\n",
       "21     17316  2.822349          2.007397\n",
       "22    259170  3.922620          2.999771\n",
       "23    211686  4.561628          1.080819\n",
       "24     62390  4.597238          4.206141"
      ]
     },
     "execution_count": 162,
     "metadata": {},
     "output_type": "execute_result"
    }
   ],
   "source": [
    "scores_df"
   ]
  },
  {
   "cell_type": "code",
   "execution_count": 158,
   "id": "cbbde34a",
   "metadata": {},
   "outputs": [],
   "source": [
    "swap_scores_all = []\n",
    "for v in valid_seqs[0:25]:\n",
    "    for vt in pair_scores[v].keys():\n",
    "        swap_scores_all.extend(pair_scores[v][vt])"
   ]
  },
  {
   "cell_type": "code",
   "execution_count": 163,
   "id": "f9378861",
   "metadata": {},
   "outputs": [
    {
     "data": {
      "image/png": "[encoded data removed]",
      "text/plain": [
       "<Figure size 640x480 with 1 Axes>"
      ]
     },
     "metadata": {},
     "output_type": "display_data"
    }
   ],
   "source": [
    "import matplotlib.pyplot as plt\n",
    "\n",
    "data = [wt_scores, dishuffle_scores, swap_scores_all]\n",
    "labels = [\"WT\", \"Dishuffle\", \"Swaps\"]\n",
    "\n",
    "plt.boxplot(data, labels=labels)\n",
    "plt.ylabel(\"Prediction Score\")\n",
    "plt.title(\"WT vs Dishuffle vs Swaps\")\n",
    "plt.tight_layout()\n",
    "plt.show()\n"
   ]
  }
 ],
 "metadata": {
  "kernelspec": {
   "display_name": "tfmodisco_env",
   "language": "python",
   "name": "python3"
  },
  "language_info": {
   "codemirror_mode": {
    "name": "ipython",
    "version": 3
   },
   "file_extension": ".py",
   "mimetype": "text/x-python",
   "name": "python",
   "nbconvert_exporter": "python",
   "pygments_lexer": "ipython3",
   "version": "3.10.18"
  }
 },
 "nbformat": 4,
 "nbformat_minor": 5
}
